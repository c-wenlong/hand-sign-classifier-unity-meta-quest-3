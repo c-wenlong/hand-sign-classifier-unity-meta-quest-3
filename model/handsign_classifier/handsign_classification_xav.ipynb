{
 "cells": [
  {
   "cell_type": "code",
   "execution_count": null,
   "id": "b680bf9e",
   "metadata": {},
   "outputs": [],
   "source": [
    "import csv\n",
    "\n",
    "import numpy as np\n",
    "import tensorflow as tf\n",
    "from sklearn.model_selection import train_test_split\n",
    "\n",
    "RANDOM_SEED = 42"
   ]
  },
  {
   "cell_type": "code",
   "execution_count": 100,
   "id": "93bb4372",
   "metadata": {},
   "outputs": [],
   "source": [
    "import numpy as np\n",
    "import pandas as pd\n",
    "from sklearn.svm import SVC\n",
    "from sklearn.model_selection import train_test_split\n",
    "from sklearn.metrics import accuracy_score\n",
    "from sklearn.neighbors import KNeighborsClassifier\n",
    "from sklearn.metrics import accuracy_score, f1_score, confusion_matrix\n",
    "\n",
    "# Random seed for reproducibility\n",
    "seed =69\n",
    "np.random.seed(seed)\n",
    "\n",
    "# Import data\n",
    "df = pd.read_csv('C:\\\\Users\\\\xavte\\\\OneDrive\\\\Documents\\\\NOC\\\\hand_joint_data.csv')\n",
    "\n",
    "# Print first 10 samples\n",
    "#print(df.head(10))\n",
    "\n",
    "# Divide data into features X and target (Classes) Y\n",
    "X = df.iloc[:, 0:41]  # Assuming each coordinate has 2 components (x, y), total 21 coordinates, 42 features\n",
    "Y = df.iloc[:, 42]  # Ensure this column correctly represents the target variable\n",
    "\n",
    "print(\"Unique classes in Y:\", np.unique(Y))\n",
    "\n",
    "\n",
    "# Split data into training and testing sets\n",
    "X_train, X_test, Y_train, Y_test = train_test_split(X, Y, test_size=0.2, random_state=seed)\n",
    "\n",
    "X_test = np.ascontiguousarray(X_test)\n",
    "Y_test = np.ascontiguousarray(Y_test)\n",
    "X_train = np.ascontiguousarray(X_train)\n",
    "Y_train = np.ascontiguousarray(Y_train)\n",
    "\n",
    "# Create KNN model\n",
    "model = KNeighborsClassifier(n_neighbors=20)\n",
    "\n",
    "# Train the model\n",
    "model.fit(X_train, Y_train)\n",
    "\n",
    "# Predict on the entire dataset\n",
    "Y_pred = model.predict(X_test)\n",
    "\n",
    "# Evaluate the model\n",
    "accuracy = accuracy_score(Y_test, Y_pred)\n",
    "f1 = f1_score(Y_test, Y_pred, average='weighted')\n",
    "cm = confusion_matrix(Y_test, Y_pred)\n",
    "print(\"Accuracy: %.2f%%\" % (accuracy * 100))\n",
    "print(\"F1 Score: %.2f\" % f1)\n",
    "print(\"Confusion Matrix:\\n\", cm)\n",
    "\n",
    "import matplotlib.pyplot as plt\n",
    "import seaborn as sns\n",
    "\n",
    "# Plot confusion matrix\n",
    "plt.figure(figsize=(6, 4))\n",
    "sns.heatmap(cm, annot=True, fmt='d', cmap='Blues', xticklabels=[1,2,3,4,5,6], yticklabels=[1,2,3,4,5,6])\n",
    "plt.xlabel('Predicted')\n",
    "plt.ylabel('True')\n",
    "plt.title('Confusion Matrix')\n",
    "plt.show()"
   ]
  },
  {
   "cell_type": "code",
   "execution_count": 101,
   "id": "a0ba2181",
   "metadata": {},
   "outputs": [
    {
     "name": "stdout",
     "output_type": "stream",
     "text": [
      "Unique classes in Y: [1 2 3 4 5 6]\n"
     ]
    }
   ],
   "source": [
    "# Print first 10 samples\n",
    "#print(df.head(10))\n",
    "\n",
    "# Divide data into features X and target (Classes) Y\n",
    "X = df.iloc[:, 0:41]  # Assuming each coordinate has 2 components (x, y), total 21 coordinates, 42 features\n",
    "Y = df.iloc[:, 42]  # Ensure this column correctly represents the target variable\n",
    "\n",
    "print(\"Unique classes in Y:\", np.unique(Y))"
   ]
  },
  {
   "cell_type": "code",
   "execution_count": null,
   "id": "4156bd73",
   "metadata": {},
   "outputs": [],
   "source": []
  },
  {
   "cell_type": "code",
   "execution_count": 102,
   "id": "65424120",
   "metadata": {
    "scrolled": true
   },
   "outputs": [
    {
     "name": "stdout",
     "output_type": "stream",
     "text": [
      "Accuracy: 99.00%\n",
      "F1 Score: 0.99\n",
      "Confusion Matrix:\n",
      " [[ 96   0   0   0   0   0]\n",
      " [  0 103   0   0   0   0]\n",
      " [  0   0  90   0   0   0]\n",
      " [  0   0   0  90   0   0]\n",
      " [  0   1   1   0 115   0]\n",
      " [  0   3   1   0   0 100]]\n"
     ]
    }
   ],
   "source": [
    "# Split data into training and testing sets\n",
    "X_train, X_test, Y_train, Y_test = train_test_split(X, Y, test_size=0.2, random_state=seed)\n",
    "\n",
    "X_test = np.ascontiguousarray(X_test)\n",
    "Y_test = np.ascontiguousarray(Y_test)\n",
    "X_train = np.ascontiguousarray(X_train)\n",
    "Y_train = np.ascontiguousarray(Y_train)\n",
    "\n",
    "# Create KNN model\n",
    "model = KNeighborsClassifier(n_neighbors=20)\n",
    "\n",
    "# Train the model\n",
    "model.fit(X_train, Y_train)\n",
    "\n",
    "# Predict on the entire dataset\n",
    "Y_pred = model.predict(X_test)\n",
    "\n",
    "# Evaluate the model\n",
    "accuracy = accuracy_score(Y_test, Y_pred)\n",
    "f1 = f1_score(Y_test, Y_pred, average='weighted')\n",
    "cm = confusion_matrix(Y_test, Y_pred)\n",
    "print(\"Accuracy: %.2f%%\" % (accuracy * 100))\n",
    "print(\"F1 Score: %.2f\" % f1)\n",
    "print(\"Confusion Matrix:\\n\", cm)"
   ]
  },
  {
   "cell_type": "code",
   "execution_count": 103,
   "id": "c5509153",
   "metadata": {},
   "outputs": [
    {
     "data": {
      "image/png": "[encoded data removed]",
      "text/plain": [
       "<Figure size 600x400 with 2 Axes>"
      ]
     },
     "metadata": {},
     "output_type": "display_data"
    }
   ],
   "source": [
    "import matplotlib.pyplot as plt\n",
    "import seaborn as sns\n",
    "\n",
    "# Plot confusion matrix\n",
    "plt.figure(figsize=(6, 4))\n",
    "sns.heatmap(cm, annot=True, fmt='d', cmap='Blues', xticklabels=[1,2,3,4,5,6], yticklabels=[1,2,3,4,5,6])\n",
    "plt.xlabel('Predicted')\n",
    "plt.ylabel('True')\n",
    "plt.title('Confusion Matrix')\n",
    "plt.show()"
   ]
  },
  {
   "cell_type": "code",
   "execution_count": null,
   "id": "71b9c9f8",
   "metadata": {},
   "outputs": [],
   "source": []
  }
 ],
 "metadata": {
  "kernelspec": {
   "display_name": "Python 3 (ipykernel)",
   "language": "python",
   "name": "python3"
  },
  "language_info": {
   "codemirror_mode": {
    "name": "ipython",
    "version": 3
   },
   "file_extension": ".py",
   "mimetype": "text/x-python",
   "name": "python",
   "nbconvert_exporter": "python",
   "pygments_lexer": "ipython3",
   "version": "3.11.0"
  }
 },
 "nbformat": 4,
 "nbformat_minor": 5
}
